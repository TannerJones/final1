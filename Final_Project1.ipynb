{
 "metadata": {
  "name": "",
  "signature": "sha256:815b87ab23cf5f6de5968aa77dc9abb67950db12111f6ae86eee69adee6dc863"
 },
 "nbformat": 3,
 "nbformat_minor": 0,
 "worksheets": [
  {
   "cells": [
    {
     "cell_type": "heading",
     "level": 1,
     "metadata": {},
     "source": [
      "Presentation"
     ]
    },
    {
     "cell_type": "heading",
     "level": 5,
     "metadata": {},
     "source": [
      "by: Tanner Jones, Ryan Fahrenbruch, and Carl Green"
     ]
    },
    {
     "cell_type": "heading",
     "level": 2,
     "metadata": {},
     "source": [
      "GitHub and ipython difficulties:"
     ]
    },
    {
     "cell_type": "markdown",
     "metadata": {},
     "source": [
      "1.\tAccessing data from a secure and free location. Got the watershed, precipitation, and soils from the United States Department of Agriculture Natrual Resources Conservation Service. An added difficulty was that there are 10 required files for the InVest water yield program to move on to the next step.\n",
      "3.\tAt first git was one of the most difficult parts of the assignment due to our lack of knowledge to how to properly use git. Took awhile of reading documentation to understand how to push, pull, add, and clone.\n",
      "4.\tiPython was difficult to set up and access. Even after getting the iPython program to work for you there were still other issues with uploading files and making changes without the access to arcpy.\n",
      "5.\tOnce the code is in place there was an issue with it locating a raster file even though it was able to notice the other files in the folder. It was an issue with the workspace and took a long time to debug.\n",
      "6.\tCopying table names was an issue for a while until we were able to edit the feature classes.\n",
      "7.\tGetting projections from the python code was difficult\n",
      "8.\tFinding meeting times that all three of us could make was difficult due to our work and class schedules.\n",
      "9.  The model threw many errors for the input data that had to be fixed.\n"
     ]
    },
    {
     "cell_type": "heading",
     "level": 2,
     "metadata": {},
     "source": [
      "Summary:"
     ]
    },
    {
     "cell_type": "markdown",
     "metadata": {},
     "source": [
      "The model is the Water Yield model. This is used to estimate annual average quantity and value of hydropower. Hydropower produces 20% of the world\u2019s energy. It also identifies how much water yield and value landscapes add to production.  There are three components to this model: water yield, water consumption, and hydropower valuation."
     ]
    },
    {
     "cell_type": "heading",
     "level": 2,
     "metadata": {},
     "source": [
      "Introduction:"
     ]
    },
    {
     "cell_type": "markdown",
     "metadata": {},
     "source": [
      "The value of fresh water has a huge impact on society including the most used form of renewable energy in hydropower production. The models look at the hydropower production from watershed-fed reservoirs and calculates differences and predictions based on varying factors such as land use and land cover change, evapotranspiration, infiltration and water retention and hydrologic cycles.  These changes affect the water yield and are calculated in the model. The calculated values for water yield can have significant impacts on the economy helping to calculate and predict values for stakeholders and consumers. "
     ]
    },
    {
     "cell_type": "heading",
     "level": 2,
     "metadata": {},
     "source": [
      "The Model:"
     ]
    },
    {
     "cell_type": "markdown",
     "metadata": {},
     "source": [
      "There are three models that are used: 1) the water yield model, 2) the realized supply model, and 3) the hydropower production and valuation model. The first model determines the water yield per pixel by using the annual actual evapotranspiration per pixel and the precipitation per pixel. The second model determines the amount of water that flows into a reservoir. Water yield and water consumption are used for the realized supply model The input is based off of the land use and land cover type with the resulting water consumption. Each pixel in the watershed is either a contributing pixel or a use pixel. The third model helps determine that amount of power that is produced based on the amount of water present and determines the dollar value for that energy. for the lifetime of the reservoir as we as the current dollar value for the reservoir.  The value and energy is evaluted with theh landscape to  make output maps showing hydropower value and energy it  makes for the lifetime of watershed yeilds. Hydropower production model uses the previously mentioned water yield model and converts inflow volume to a per second rate and multiplying the kilowatt-hours with the hours in a year to produce the max electricity as the energy production rating."
     ]
    },
    {
     "cell_type": "heading",
     "level": 2,
     "metadata": {},
     "source": [
      "Data Needs:"
     ]
    },
    {
     "cell_type": "markdown",
     "metadata": {},
     "source": [
      "Of the 11 requested fields 10 are required for the program to successfully run. The fields are: root restricting layer depth, precipitation, plant available water content, average annual reference evapotranspiration, land use/land cover, watersheds, subwatersheds, biophysical table, z parameter, and demand table. The first five on the list are all of the raster datasets required. They measure how much water is going into, coming out of, and being retained in the soil. The watersheds and subwatersheds are polygons that represent the exact location of where and how the water is retained and moves about in the region. The biophysical and demand tables are charts that explain the categories and attributes of the land use/land cover raster dataset. Lastly, the Z parameter measures how much water is expected to fall and be retained in the region in question and places in on a scale from 1 to 30. The Z parameter has been found in two distinct ways, the simpler is multiplying 0.2 and the number of rain events per year. and it could be an accurate depiction of the Z parameter.\n",
      "\n",
      "Got the watershed, precipitation, and soils from the United States Department of Agriculture Natrual Resources Conservation Service. Filler data was put in the other resulting locations to produce an output.\n",
      "\n",
      "1. Watersheds:\n",
      " * Name can be anything just no spaces in the name\n",
      " * Shapefile\n",
      " * Columns: An integer field named \u201cws_id\u201d is required which is unique for each polygon\n",
      "2. Sub-Watersheds:\n",
      " * Shapefile\n",
      " * Columns: An integer field named \u201csubws_id\u201d is required which is unique for each polygon\n",
      "3. Precipitation:\n",
      " * Raster\n",
      " * Non-zero value in every cell\n",
      " * In millimeters"
     ]
    },
    {
     "cell_type": "heading",
     "level": 1,
     "metadata": {},
     "source": [
      "Pseudocode part 1:"
     ]
    },
    {
     "cell_type": "code",
     "collapsed": false,
     "input": [
      "#This is our pseudocode, it has changed a little as we merged the two functions\n",
      "Import arcpy\n",
      "# Declare a workspace that contains all 11 of the needed files\n",
      "Import the workspace\n",
      "# Declare separate feature classes for each file then check to make sure they are all in the    # correct projection and units\n",
      "List all feature classes to empty list \u201cfclist\u201d\n",
      "List all rasters to empty list \u201crasterlist\u201d\n",
      "List all tables to empty list \u201ctablelist\u201d\n",
      "FOR every table in tablelist\n",
      "    RUN ValidateTableName function\n",
      "END FOR\n",
      "FOR every non-table-file of inputs\n",
      "    SET non-table-file for describe\n",
      "    IF non-table-file has projection AND units == meters THEN\n",
      "        # Checks the rasters to make sure they have the appropriate name\n",
      "        Check ValidateFieldName\n",
      "    ELSE\n",
      "        PRINT user there is an error\n",
      "    ENDIF\n",
      "END FOR\n",
      "\n",
      "\n",
      "for shp in shpList:\n",
      "    shp = arcpy.ValidateFieldName(shp)\n",
      "    if arcpy.Describe(shp).spatialReference = NULL\n",
      "        print \u201cInvalid projection for \u201d + shp\n",
      "    if arcpy.Describe(shp).spatialReference.linearUnitName != \u201cMETER\u201d\n",
      "        print \u201cInvalid unit for \u201c + shp\n",
      "\n",
      "\n",
      "count = 0\n",
      "if arcpy.Describe(raster).spatialReference.linearUnitName = \u201cMILLIMETER\u201d\n",
      "    count += 1\n",
      "\n",
      "print count\n",
      "\n",
      "print \"The units for \" + rast + \" are\" + arcpy.spatialRef.linearUnitName"
     ],
     "language": "python",
     "metadata": {},
     "outputs": []
    },
    {
     "cell_type": "heading",
     "level": 1,
     "metadata": {},
     "source": [
      "Psuedocode part 2: "
     ]
    },
    {
     "cell_type": "code",
     "collapsed": false,
     "input": [
      "#all this minus tables is not covered, it is now in the other function\n",
      "\n",
      "import arcpy\n",
      "import environment\n",
      "set workspace\n",
      "\n",
      "Read rasters into rasterList\n",
      "Read shapefile into shpList\n",
      "Read tables into tableList\n",
      "read in study area shapefile\n",
      "SET shpprj to projection of study area using describe\n",
      "\n",
      "IF rasterOutput does not exist \n",
      "    create the rasterOutput folder\n",
      "END IF\n",
      "\n",
      "IF shapefileOutput does not exist\n",
      "    create shapefileOutput folder\n",
      "END IF\n",
      "\n",
      "FOR every raster in rasterList\n",
      "    IF projection of raster != projection of study area\n",
      "SET projection to shpprf\n",
      "Clip raster to study area \n",
      "        Save raster to rasterOutput\n",
      "    END IF\n",
      "END FOR\n",
      "\n",
      "FOR every shapefile in shpList\n",
      "    IF projection of shapefile != projection of study area\n",
      "        SET projection to shpprj\n",
      "        Clip to study study area\n",
      "        Save shapefile to shapefileOutput\n",
      "    END IF\n",
      "END FOR"
     ],
     "language": "python",
     "metadata": {},
     "outputs": []
    },
    {
     "cell_type": "markdown",
     "metadata": {},
     "source": [
      "Psuedocode provided a good basis for coding our project. It provided us the structure when looking at what direction we needed to go. However, a lot of unseen errors popped up that forced us to make modifications to the code in parts but overall it kept a consistant structure. \n",
      "Function checking the projection and changing the projection where appropriate.\n",
      "We all worked on these functions in class and decided to combine the two functions into one function."
     ]
    },
    {
     "cell_type": "heading",
     "level": 1,
     "metadata": {},
     "source": [
      "Final Code:"
     ]
    },
    {
     "cell_type": "code",
     "collapsed": false,
     "input": [
      "#Import arcpy and env so the ArcGIS python functions can be used and the workspace can be set.\n",
      "import arcpy\n",
      "import os\n",
      "from arcpy import env\n",
      "from arcpy.sa import *\n",
      "\n",
      "env.overwriteOutput = True\n",
      "#env.workspace = \"E:/NatCap/Data/rasters/\"\n",
      "\n",
      "#set the feature class to the study area\n",
      "\n",
      "env.workspace = \"G:/NatCap/Data/\"\n",
      "fc = \"G:/NatCap/Data/fc/watersheds_3.shp\"\n",
      "#fc = arcpy.GetParameterAsText(0)\n",
      "\n",
      "#Get the projection of the study area\n",
      "shpPrj = arcpy.Describe(fc).spatialReference\n",
      "\n",
      "env.workspace = \"F:/NatCap/Data/\"\n",
      "#If there is not a folder called rasterOutput, then this will create one.\n",
      "if arcpy.Exists(\"rasterOutput\") == False:\n",
      "    arcpy.CreateFolder_management(\"E:/NatCap/Data/\", \"rasterOutput\")\n",
      "#If there is not a folder called shpOutput, then this will create one.\n",
      "if arcpy.Exists(\"shpOutput\") == False:\n",
      "    arcpy.CreateFolder_management(\"E:/NatCap/Data/\", \"shpOutput\")\n",
      "\n",
      "arcpy.CheckOutExtension(\"Spatial\")\n",
      "\n",
      "#This for loop will go through rasterList and check to see if it has the same projection as the study area. If the\n",
      "#projections are not the same, the raster will be given the same projection as the study area. Then the raster will be\n",
      "#clipped so it has the same extent as the study area. The result will be save to the rastersOut folder.\n",
      "\n",
      "env.workspace = \"G:/NatCap/Data/rasters/\"\n",
      "rasterList = arcpy.ListRasters(\"*\", \"*\")\n",
      "print rasterList\n",
      "\n",
      "for raster in rasterList:\n",
      "    #print arcpy.Describe(raster.dataSource).name\n",
      "    des = arcpy.Describe(raster)\n",
      "    if des.spatialReference != shpPrj:\n",
      "        arcpy.ProjectRaster_management(raster, \"G:/NatCap/Data/rasterOutput/reprojected_\" + raster + \".bil\", shpPrj)\n",
      "        #ExtractByPolygon(raster, fc)\n",
      "        #arcpy.Clip_management(raster, fc, \"clip_\" + raster + \".bil\")\n",
      "        outExtractByMask = ExtractByMask(raster, fc)\n",
      "        outExtractByMask.save(\"G:/NatCap/Data/rasterOutput/clip\" + raster)\n",
      "    else:\n",
      "        outExtractByMask = ExtractByMask(raster, fc)\n",
      "        outExtractByMask.save(\"G:/NatCap/Data/rasterOutput/clip\" + raster)\n",
      "\n",
      "\n",
      "#This for loop will go through shpList and check to see if it has the same projection as the study area. If the\n",
      "#projections are not the same, the shapefile will be given the same projection as the study area. Then the shapefile\n",
      "#will be clipped so it has the same extent as the study area. The result will be save to the shapefiles folder.\n",
      "#Slight problem with the shapefiles, it is not overwritting the files everything and needs to be deleted if want to run again.\n",
      "env.workspace = \"G:/NatCap/Data/shapefiles/\"\n",
      "shpList = arcpy.ListFeatureClasses()\n",
      "print shpList\n",
      "\n",
      "for shp in shpList:\n",
      "    if arcpy.Describe(shp).spatialReference != shpPrj:\n",
      "        arcpy.Project_management(shp, \"G:/NatCap/Data/shpOutput/reprojected_\" + shp, shpPrj)\n",
      "        arcpy.Clip_analysis(shp, fc, \"G:/NatCap/Data/shpOutput/clip_\" + shp + \".shp\")\n",
      "\n",
      "\n",
      "env.workspace = \"G:/NatCap/Data/rasterOutput/\"\n",
      "rasterList2 = arcpy.ListRasters(\"*\", \"*\")\n",
      "print rasterList2\n",
      "#These for loops will go through each field, validate the names then assign the new validated name to each field.\\n\",\n",
      "\n",
      "for raster in rasterList2:\n",
      "    for field in raster:\n",
      "        rasterFieldName = arcpy.GetParameterAsText(1)\n",
      "        rasterFieldName = arcpy.ValidateFieldName(rasterFieldName, os.path.dirname(field))\n",
      "\n",
      "env.workspace = \"G:/NatCap/Data/shapOutput\"\n",
      "shpList2 = arcpy.ListFeatureClasses()\n",
      "for shp in shpList2:\n",
      "    fields = arcpy.ListFields(shp)\n",
      "    for field in fields:\n",
      "        shpFieldName = arcpy.GetParameterAsText(1)\n",
      "        shpFieldName = arcpy.ValidateFieldName(shpFieldName, os.path.dirname(field))\n",
      "\n",
      "\n",
      "\n",
      "#need to set the workspace for the tables\n",
      "env.workspace = \"G:/NatCap/Data/Tables\"\n",
      "#read in the list of tables\n",
      "tablelist = arcpy.ListTables()\n",
      "#reads in the tables and validates the name by saving to a gdb\n",
      "for tables in tablelist:\n",
      "    #validates the output name\n",
      "    outtables = arcpy.ValidateTableName(tables)\n",
      "    print outtables\n",
      "    #this is a new table so the validate function succeeds\n",
      "    arcpy.CopyRows_management(tables, \"E:/NatCap/Data/FinalTables/\" + outtables)\n"
     ],
     "language": "python",
     "metadata": {},
     "outputs": [
      {
       "output_type": "stream",
       "stream": "stdout",
       "text": [
        "[u't_t122', u'wa_precip']\n",
        "[u'OK_County_Demog.shp', u'watersheds_3.shp']"
       ]
      },
      {
       "output_type": "stream",
       "stream": "stdout",
       "text": [
        "\n"
       ]
      },
      {
       "ename": "ExecuteError",
       "evalue": "ERROR 000210: Cannot create output G:\\NatCap\\Data\\shpOutput\\clip_OK_County_Demog.shp.shp\nFailed to execute (Clip).\n",
       "output_type": "pyerr",
       "traceback": [
        "\u001b[1;31m---------------------------------------------------------------------------\u001b[0m\n\u001b[1;31mExecuteError\u001b[0m                              Traceback (most recent call last)",
        "\u001b[1;32m<ipython-input-1-319c1075ecc3>\u001b[0m in \u001b[0;36m<module>\u001b[1;34m()\u001b[0m\n\u001b[0;32m     60\u001b[0m     \u001b[1;32mif\u001b[0m \u001b[0marcpy\u001b[0m\u001b[1;33m.\u001b[0m\u001b[0mDescribe\u001b[0m\u001b[1;33m(\u001b[0m\u001b[0mshp\u001b[0m\u001b[1;33m)\u001b[0m\u001b[1;33m.\u001b[0m\u001b[0mspatialReference\u001b[0m \u001b[1;33m!=\u001b[0m \u001b[0mshpPrj\u001b[0m\u001b[1;33m:\u001b[0m\u001b[1;33m\u001b[0m\u001b[0m\n\u001b[0;32m     61\u001b[0m         \u001b[0marcpy\u001b[0m\u001b[1;33m.\u001b[0m\u001b[0mProject_management\u001b[0m\u001b[1;33m(\u001b[0m\u001b[0mshp\u001b[0m\u001b[1;33m,\u001b[0m \u001b[1;34m\"G:/NatCap/Data/shpOutput/reprojected_\"\u001b[0m \u001b[1;33m+\u001b[0m \u001b[0mshp\u001b[0m\u001b[1;33m,\u001b[0m \u001b[0mshpPrj\u001b[0m\u001b[1;33m)\u001b[0m\u001b[1;33m\u001b[0m\u001b[0m\n\u001b[1;32m---> 62\u001b[1;33m         \u001b[0marcpy\u001b[0m\u001b[1;33m.\u001b[0m\u001b[0mClip_analysis\u001b[0m\u001b[1;33m(\u001b[0m\u001b[0mshp\u001b[0m\u001b[1;33m,\u001b[0m \u001b[0mfc\u001b[0m\u001b[1;33m,\u001b[0m \u001b[1;34m\"G:/NatCap/Data/shpOutput/clip_\"\u001b[0m \u001b[1;33m+\u001b[0m \u001b[0mshp\u001b[0m \u001b[1;33m+\u001b[0m \u001b[1;34m\".shp\"\u001b[0m\u001b[1;33m)\u001b[0m\u001b[1;33m\u001b[0m\u001b[0m\n\u001b[0m\u001b[0;32m     63\u001b[0m \u001b[1;33m\u001b[0m\u001b[0m\n\u001b[0;32m     64\u001b[0m \u001b[1;33m\u001b[0m\u001b[0m\n",
        "\u001b[1;32mC:\\Program Files (x86)\\ArcGIS\\Desktop10.2\\arcpy\\arcpy\\analysis.py\u001b[0m in \u001b[0;36mClip\u001b[1;34m(in_features, clip_features, out_feature_class, cluster_tolerance)\u001b[0m\n\u001b[0;32m     54\u001b[0m         \u001b[1;32mreturn\u001b[0m \u001b[0mretval\u001b[0m\u001b[1;33m\u001b[0m\u001b[0m\n\u001b[0;32m     55\u001b[0m     \u001b[1;32mexcept\u001b[0m \u001b[0mException\u001b[0m\u001b[1;33m,\u001b[0m \u001b[0me\u001b[0m\u001b[1;33m:\u001b[0m\u001b[1;33m\u001b[0m\u001b[0m\n\u001b[1;32m---> 56\u001b[1;33m         \u001b[1;32mraise\u001b[0m \u001b[0me\u001b[0m\u001b[1;33m\u001b[0m\u001b[0m\n\u001b[0m\u001b[0;32m     57\u001b[0m \u001b[1;33m\u001b[0m\u001b[0m\n\u001b[0;32m     58\u001b[0m \u001b[1;33m@\u001b[0m\u001b[0mgptooldoc\u001b[0m\u001b[1;33m(\u001b[0m\u001b[1;34m'Select_analysis'\u001b[0m\u001b[1;33m,\u001b[0m \u001b[0mNone\u001b[0m\u001b[1;33m)\u001b[0m\u001b[1;33m\u001b[0m\u001b[0m\n",
        "\u001b[1;31mExecuteError\u001b[0m: ERROR 000210: Cannot create output G:\\NatCap\\Data\\shpOutput\\clip_OK_County_Demog.shp.shp\nFailed to execute (Clip).\n"
       ]
      }
     ],
     "prompt_number": 1
    },
    {
     "cell_type": "heading",
     "level": 1,
     "metadata": {},
     "source": [
      "Tool Development:"
     ]
    },
    {
     "cell_type": "markdown",
     "metadata": {},
     "source": [
      "We added a tool for the user to select the study area. The parameter in the code can be changed if the user no longer wants to select the specified study area. "
     ]
    },
    {
     "cell_type": "code",
     "collapsed": false,
     "input": [
      "from IPython.display import Image"
     ],
     "language": "python",
     "metadata": {},
     "outputs": []
    },
    {
     "cell_type": "code",
     "collapsed": false,
     "input": [
      "Image(filename='C:/Users/locom_000/Pictures/tool.png')"
     ],
     "language": "python",
     "metadata": {},
     "outputs": []
    },
    {
     "cell_type": "code",
     "collapsed": false,
     "input": [
      "Image(filename='C:/Users/locom_000/Pictures/WaterYield Model.png')"
     ],
     "language": "python",
     "metadata": {},
     "outputs": []
    },
    {
     "cell_type": "code",
     "collapsed": false,
     "input": [
      "Image(filename='C:/Users/locom_000/Pictures/Model complete.png')"
     ],
     "language": "python",
     "metadata": {},
     "outputs": []
    },
    {
     "cell_type": "code",
     "collapsed": false,
     "input": [
      "Image(filename='C:/Users/locom_000/Pictures/ModelOutput.png')"
     ],
     "language": "python",
     "metadata": {},
     "outputs": []
    },
    {
     "cell_type": "heading",
     "level": 1,
     "metadata": {},
     "source": [
      "Outputs:"
     ]
    },
    {
     "cell_type": "markdown",
     "metadata": {},
     "source": [
      "1. Watershed results table\n",
      " * precip_mn (mm): Mean precipitation per pixel on the watershed.\n",
      " * PET_mn (mm): Mean potential evapotranspiration per pixel on the watershed.\n",
      " * AET_mn (mm): Mean actual evapotranspiration per pixel on the watershed.\n",
      " * wyield_mn (mm): Mean water yield per pixel on the watershed.\n",
      " * num_pixels: Number of pixels per watershed.\n",
      " * wyield_vol (m^3): Volume of water yield in the watershed.\n",
      " * wyield_ha (m^3): Volume of water yield in the watershed per hectare.\n",
      "2. SubWatershed results table\n",
      " * precip_mn (mm): Mean precipitation per pixel on the subwatershed.\n",
      " * PET_mn (mm): Mean potential evapotranspiration per pixel on the subwatershed.\n",
      " * AET_mn (mm): Mean actual evapotranspiration per pixel on the subwatershed.\n",
      " * wyield_mn (mm): Mean water yield per pixel on the subwatershed.\n",
      " * num_pixels: Number of pixels per subwatershed.\n",
      " * wyield_vol (m^3): Volume of water yield in the subwatershed.\n",
      " * wyield_ha (m^3): Volume of water yield in the subwatershed per hectare."
     ]
    },
    {
     "cell_type": "code",
     "collapsed": false,
     "input": [
      "\"\"\"\n",
      "This is part of our map scripting as well. \n",
      "It adds a title and changes the extent to a reasonable view. \n",
      "We were not sure what to interpret from the results, but we got an output.\n",
      "\"\"\"\n",
      "\n",
      "import arcpy\n",
      "mxd = \"E:/NatCap/Data/NatCapWaterYield.mxd\"\n",
      "mapdoc = arcpy.mapping.MapDocument(mxd)\n",
      "dataset = \"E:/NatCap/Data/watershed_results.shp\"\n",
      "spatialref = arcpy.Describe(dataset).spatialReference\n",
      "extent = arcpy.Describe(dataset).extent\n",
      "for df in arcpy.mapping.ListDataFrames(mapdoc):\n",
      "    df.spatialReference = spatialref\n",
      "    df.panToExtent(extent)\n",
      "    df.scale = 500000\n",
      "elemlist = arcpy.mapping.ListLayoutElements(mapdoc)\n",
      "title = elemlist[0]\n",
      "title.text = \"NatCap Water Yield Results\"\n",
      "mapdoc.save()\n",
      "del mapdoc"
     ],
     "language": "python",
     "metadata": {},
     "outputs": []
    },
    {
     "cell_type": "heading",
     "level": 1,
     "metadata": {},
     "source": [
      "Group evaluations:"
     ]
    },
    {
     "cell_type": "markdown",
     "metadata": {},
     "source": [
      "Team work evaluations:  We worked very well as a group and had to overcome certain time obstacles in completing the project. Our group was very willing to work on the assigned portions and to communicate back and forth with emails and through the github repositories. Work was divided and tasked with certain individuals and was always completed on time with when the assignment was due.  The group was great when running into a problem and everyone giving the opinions and estimations to fix it.\n",
      "\n",
      "1. Tanner Jones:\n",
      " * Good\n",
      "  > Dedicated to the project and wrote code portions for the final project as well as setting up repositories and ipython files for the group.  Helped lead discussions and decide what the project needed to do.  Decided on what needed to be cut and added to certain portions. Always able to meet with the group  \n",
      "  > Installed and ran the Invest Model while also collecting the outputs and creating images of those outputs. Good at making time to meet with group members and helping out with problems.\n",
      "    \n",
      " * Bad\n",
      "  > Over-concerned with project.\n",
      "  > Had little time to work on homeworks and projects but was willing to overcome difficulties. \n",
      "  \n",
      "2. Ryan Fahrenbruch:\n",
      " * Good\n",
      "  > Always willing to work on the portions that lacked in certain areas and to fix problems that came from the code.\n",
      "  > Very determined to fix problems in code and good at finding issues and solutions to coding problems.\n",
      "  \n",
      " * Bad\n",
      "  > Scheduling times was a little difficult due to him working a full time job.\n",
      "  > Occasionally would not respond to emails about group work.\n",
      "\n",
      "3. Carl Green:\n",
      " * Good\n",
      "> Vocal in the direction the project needed to go.  Worked on areas that needed to be added and always submitted quality work.\n",
      "> This helped with scheduling what needed to be done and who needed to do it.  It was very good for the group to have a plan.\n",
      "\n",
      " * Bad\n",
      "  > Also had a full time job which made it difficult to meet sometimes.\n",
      "  > Had some trouble with GitHub and getting files to upload. Also ipython but everyone had trouble with that. "
     ]
    },
    {
     "cell_type": "code",
     "collapsed": false,
     "input": [],
     "language": "python",
     "metadata": {},
     "outputs": []
    }
   ],
   "metadata": {}
  }
 ]
}